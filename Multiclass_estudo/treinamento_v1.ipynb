{
 "cells": [
  {
   "cell_type": "code",
   "execution_count": 1,
   "id": "389fc42e-b385-40b1-8ac1-cad57c8dff18",
   "metadata": {},
   "outputs": [],
   "source": [
    "from tensorflow.keras.preprocessing.image import ImageDataGenerator\n",
    "from tensorflow.keras.models import Sequential\n",
    "from tensorflow.keras.callbacks import ModelCheckpoint\n",
    "from keras.layers import Conv2D, MaxPooling2D, Flatten, Dense, Dropout\n",
    "from tensorflow.keras.optimizers import Adam\n",
    "import os"
   ]
  },
  {
   "cell_type": "code",
   "execution_count": 34,
   "id": "b1ef039c-93b3-4c5e-9de0-7a3a303ad408",
   "metadata": {},
   "outputs": [],
   "source": [
    "train_datagen = ImageDataGenerator(\n",
    "    rescale=1./255,                  \n",
    "    rotation_range=40,               \n",
    "    width_shift_range=0.2,           \n",
    "    height_shift_range=0.2,          \n",
    "    shear_range=0.2,                 \n",
    "    zoom_range=0.2,                  \n",
    "    horizontal_flip=True,            \n",
    "    fill_mode='nearest',             \n",
    ")"
   ]
  },
  {
   "cell_type": "code",
   "execution_count": 35,
   "id": "1f22ca65-ed62-4f4f-8081-5f6873a90b5b",
   "metadata": {},
   "outputs": [
    {
     "name": "stdout",
     "output_type": "stream",
     "text": [
      "Found 648 images belonging to 4 classes.\n"
     ]
    }
   ],
   "source": [
    "train_generator = train_datagen.flow_from_directory(\n",
    "    os.path.join(\"datasets\",\"HAM10000_ESTRUTURADO\",\"treino\"),                        \n",
    "    target_size=(500, 500),          \n",
    "    batch_size=32,          \n",
    "    class_mode='categorical'     \n",
    ")"
   ]
  },
  {
   "cell_type": "code",
   "execution_count": 36,
   "id": "87b9a793-2fb1-474b-af9e-1c4019c21df1",
   "metadata": {},
   "outputs": [
    {
     "name": "stdout",
     "output_type": "stream",
     "text": [
      "Found 162 images belonging to 4 classes.\n"
     ]
    }
   ],
   "source": [
    "val_generator = train_datagen.flow_from_directory(\n",
    "    os.path.join(\"datasets\",\"HAM10000_ESTRUTURADO\",\"validacao\"),                        \n",
    "    target_size=(500, 500),          \n",
    "    batch_size=32,          \n",
    "    class_mode='categorical'     \n",
    ")"
   ]
  },
  {
   "cell_type": "code",
   "execution_count": 40,
   "id": "126a252a-f814-473e-bd6a-3602a2bda701",
   "metadata": {},
   "outputs": [],
   "source": [
    "model = Sequential([\n",
    "    Conv2D(32, (3, 3), activation='relu', input_shape=(500, 500, 3)),\n",
    "    MaxPooling2D(2, 2),\n",
    "    \n",
    "    Conv2D(64, (3, 3), activation='relu'),\n",
    "    MaxPooling2D(2, 2),\n",
    "    \n",
    "    Conv2D(128, (3, 3), activation='relu'),\n",
    "    MaxPooling2D(2, 2),\n",
    "    \n",
    "    Flatten(),\n",
    "    Dense(128, activation='relu'),\n",
    "    Dropout(0.3),               \n",
    "    Dense(4, activation='softmax')  \n",
    "])\n",
    "model.compile(optimizer='adam', loss='categorical_crossentropy', metrics=['accuracy','AUC'])"
   ]
  },
  {
   "cell_type": "code",
   "execution_count": 41,
   "id": "8db6fd23-98ac-4375-8a49-0c4e94d56fc8",
   "metadata": {},
   "outputs": [],
   "source": [
    "checkpoint = ModelCheckpoint(\"ham_multi_bestWeights_v3.h5\",\n",
    "                             monitor='val_accuracy',\n",
    "                             verbose=1,\n",
    "                             save_best_only=True,\n",
    "                             mode='max',\n",
    "                             save_weights_only=True)"
   ]
  },
  {
   "cell_type": "code",
   "execution_count": 43,
   "id": "d8cffd0e-d080-4f9a-a4fb-46e3ad3eb32f",
   "metadata": {},
   "outputs": [],
   "source": [
    "model.load_weights(\"ham_multi_bestWeights_v3.h5\")"
   ]
  },
  {
   "cell_type": "code",
   "execution_count": null,
   "id": "033bcb55-a44c-4998-bb17-00746d8f3999",
   "metadata": {},
   "outputs": [
    {
     "name": "stdout",
     "output_type": "stream",
     "text": [
      "Epoch 1/60\n",
      "21/21 [==============================] - ETA: 0s - loss: 1.1853 - accuracy: 0.4568 - auc: 0.7355\n",
      "Epoch 1: val_accuracy improved from -inf to 0.41358, saving model to ham_multi_bestWeights_v3.h5\n",
      "21/21 [==============================] - 84s 4s/step - loss: 1.1853 - accuracy: 0.4568 - auc: 0.7355 - val_loss: 1.2750 - val_accuracy: 0.4136 - val_auc: 0.7041\n",
      "Epoch 2/60\n",
      "21/21 [==============================] - ETA: 0s - loss: 1.1464 - accuracy: 0.4861 - auc: 0.7606\n",
      "Epoch 2: val_accuracy improved from 0.41358 to 0.46914, saving model to ham_multi_bestWeights_v3.h5\n",
      "21/21 [==============================] - 77s 4s/step - loss: 1.1464 - accuracy: 0.4861 - auc: 0.7606 - val_loss: 1.1739 - val_accuracy: 0.4691 - val_auc: 0.7463\n",
      "Epoch 3/60\n",
      "21/21 [==============================] - ETA: 0s - loss: 1.1582 - accuracy: 0.4923 - auc: 0.7596\n",
      "Epoch 3: val_accuracy improved from 0.46914 to 0.48148, saving model to ham_multi_bestWeights_v3.h5\n",
      "21/21 [==============================] - 77s 4s/step - loss: 1.1582 - accuracy: 0.4923 - auc: 0.7596 - val_loss: 1.1869 - val_accuracy: 0.4815 - val_auc: 0.7516\n",
      "Epoch 4/60\n",
      "21/21 [==============================] - ETA: 0s - loss: 1.1291 - accuracy: 0.4954 - auc: 0.7656\n",
      "Epoch 4: val_accuracy did not improve from 0.48148\n",
      "21/21 [==============================] - 76s 4s/step - loss: 1.1291 - accuracy: 0.4954 - auc: 0.7656 - val_loss: 1.1628 - val_accuracy: 0.4691 - val_auc: 0.7673\n",
      "Epoch 5/60\n",
      "21/21 [==============================] - ETA: 0s - loss: 1.1237 - accuracy: 0.4969 - auc: 0.7668\n",
      "Epoch 5: val_accuracy improved from 0.48148 to 0.54938, saving model to ham_multi_bestWeights_v3.h5\n",
      "21/21 [==============================] - 77s 4s/step - loss: 1.1237 - accuracy: 0.4969 - auc: 0.7668 - val_loss: 1.1041 - val_accuracy: 0.5494 - val_auc: 0.7963\n",
      "Epoch 6/60\n",
      "21/21 [==============================] - ETA: 0s - loss: 1.0653 - accuracy: 0.5417 - auc: 0.7938\n",
      "Epoch 6: val_accuracy did not improve from 0.54938\n",
      "21/21 [==============================] - 76s 4s/step - loss: 1.0653 - accuracy: 0.5417 - auc: 0.7938 - val_loss: 1.1144 - val_accuracy: 0.5247 - val_auc: 0.7895\n",
      "Epoch 7/60\n",
      "21/21 [==============================] - ETA: 0s - loss: 1.0524 - accuracy: 0.5216 - auc: 0.8012\n",
      "Epoch 7: val_accuracy did not improve from 0.54938\n",
      "21/21 [==============================] - 76s 4s/step - loss: 1.0524 - accuracy: 0.5216 - auc: 0.8012 - val_loss: 1.1253 - val_accuracy: 0.5000 - val_auc: 0.7835\n",
      "Epoch 8/60\n",
      "21/21 [==============================] - ETA: 0s - loss: 1.0614 - accuracy: 0.5494 - auc: 0.7976\n",
      "Epoch 8: val_accuracy did not improve from 0.54938\n",
      "21/21 [==============================] - 76s 4s/step - loss: 1.0614 - accuracy: 0.5494 - auc: 0.7976 - val_loss: 1.1865 - val_accuracy: 0.5123 - val_auc: 0.7686\n",
      "Epoch 9/60\n",
      "21/21 [==============================] - ETA: 0s - loss: 1.1039 - accuracy: 0.4954 - auc: 0.7738\n",
      "Epoch 9: val_accuracy did not improve from 0.54938\n",
      "21/21 [==============================] - 76s 4s/step - loss: 1.1039 - accuracy: 0.4954 - auc: 0.7738 - val_loss: 1.2633 - val_accuracy: 0.4691 - val_auc: 0.7504\n",
      "Epoch 10/60\n",
      "21/21 [==============================] - ETA: 0s - loss: 1.0722 - accuracy: 0.5185 - auc: 0.7960\n",
      "Epoch 10: val_accuracy improved from 0.54938 to 0.58025, saving model to ham_multi_bestWeights_v3.h5\n",
      "21/21 [==============================] - 77s 4s/step - loss: 1.0722 - accuracy: 0.5185 - auc: 0.7960 - val_loss: 1.0664 - val_accuracy: 0.5802 - val_auc: 0.8007\n",
      "Epoch 11/60\n",
      "21/21 [==============================] - ETA: 0s - loss: 1.0472 - accuracy: 0.5463 - auc: 0.8069\n",
      "Epoch 11: val_accuracy did not improve from 0.58025\n",
      "21/21 [==============================] - 76s 4s/step - loss: 1.0472 - accuracy: 0.5463 - auc: 0.8069 - val_loss: 1.1363 - val_accuracy: 0.5185 - val_auc: 0.7886\n",
      "Epoch 12/60\n",
      "21/21 [==============================] - ETA: 0s - loss: 1.0511 - accuracy: 0.5617 - auc: 0.8075\n",
      "Epoch 12: val_accuracy did not improve from 0.58025\n",
      "21/21 [==============================] - 75s 4s/step - loss: 1.0511 - accuracy: 0.5617 - auc: 0.8075 - val_loss: 1.0547 - val_accuracy: 0.5494 - val_auc: 0.8160\n",
      "Epoch 13/60\n",
      "21/21 [==============================] - ETA: 0s - loss: 1.0640 - accuracy: 0.5571 - auc: 0.8001\n",
      "Epoch 13: val_accuracy did not improve from 0.58025\n",
      "21/21 [==============================] - 76s 4s/step - loss: 1.0640 - accuracy: 0.5571 - auc: 0.8001 - val_loss: 1.1265 - val_accuracy: 0.5000 - val_auc: 0.7945\n",
      "Epoch 14/60\n",
      "21/21 [==============================] - ETA: 0s - loss: 1.0811 - accuracy: 0.5077 - auc: 0.7896\n",
      "Epoch 14: val_accuracy did not improve from 0.58025\n",
      "21/21 [==============================] - 76s 4s/step - loss: 1.0811 - accuracy: 0.5077 - auc: 0.7896 - val_loss: 1.2123 - val_accuracy: 0.4506 - val_auc: 0.7355\n",
      "Epoch 15/60\n",
      "21/21 [==============================] - ETA: 0s - loss: 1.0557 - accuracy: 0.5417 - auc: 0.7967\n",
      "Epoch 15: val_accuracy did not improve from 0.58025\n",
      "21/21 [==============================] - 76s 4s/step - loss: 1.0557 - accuracy: 0.5417 - auc: 0.7967 - val_loss: 1.0980 - val_accuracy: 0.5370 - val_auc: 0.7928\n",
      "Epoch 16/60\n",
      "21/21 [==============================] - ETA: 0s - loss: 1.0297 - accuracy: 0.5648 - auc: 0.8159\n",
      "Epoch 16: val_accuracy did not improve from 0.58025\n",
      "21/21 [==============================] - 76s 4s/step - loss: 1.0297 - accuracy: 0.5648 - auc: 0.8159 - val_loss: 1.0207 - val_accuracy: 0.5556 - val_auc: 0.8156\n",
      "Epoch 17/60\n",
      "21/21 [==============================] - ETA: 0s - loss: 0.9864 - accuracy: 0.5880 - auc: 0.8276\n",
      "Epoch 17: val_accuracy did not improve from 0.58025\n",
      "21/21 [==============================] - 76s 4s/step - loss: 0.9864 - accuracy: 0.5880 - auc: 0.8276 - val_loss: 1.0757 - val_accuracy: 0.5370 - val_auc: 0.8000\n",
      "Epoch 18/60\n",
      "21/21 [==============================] - ETA: 0s - loss: 1.0381 - accuracy: 0.5694 - auc: 0.8112\n",
      "Epoch 18: val_accuracy did not improve from 0.58025\n",
      "21/21 [==============================] - 76s 4s/step - loss: 1.0381 - accuracy: 0.5694 - auc: 0.8112 - val_loss: 1.1007 - val_accuracy: 0.5309 - val_auc: 0.7944\n",
      "Epoch 19/60\n",
      "21/21 [==============================] - ETA: 0s - loss: 0.9851 - accuracy: 0.5880 - auc: 0.8284\n",
      "Epoch 19: val_accuracy did not improve from 0.58025\n",
      "21/21 [==============================] - 76s 4s/step - loss: 0.9851 - accuracy: 0.5880 - auc: 0.8284 - val_loss: 1.2037 - val_accuracy: 0.5247 - val_auc: 0.7919\n",
      "Epoch 20/60\n",
      "21/21 [==============================] - ETA: 0s - loss: 0.9892 - accuracy: 0.5664 - auc: 0.8249\n",
      "Epoch 20: val_accuracy improved from 0.58025 to 0.60494, saving model to ham_multi_bestWeights_v3.h5\n",
      "21/21 [==============================] - 77s 4s/step - loss: 0.9892 - accuracy: 0.5664 - auc: 0.8249 - val_loss: 0.9897 - val_accuracy: 0.6049 - val_auc: 0.8320\n",
      "Epoch 21/60\n",
      "21/21 [==============================] - ETA: 0s - loss: 1.0248 - accuracy: 0.5818 - auc: 0.8135\n",
      "Epoch 21: val_accuracy did not improve from 0.60494\n",
      "21/21 [==============================] - 76s 4s/step - loss: 1.0248 - accuracy: 0.5818 - auc: 0.8135 - val_loss: 1.1148 - val_accuracy: 0.5247 - val_auc: 0.7829\n",
      "Epoch 22/60\n",
      "21/21 [==============================] - ETA: 0s - loss: 0.9956 - accuracy: 0.5571 - auc: 0.8224\n",
      "Epoch 22: val_accuracy did not improve from 0.60494\n",
      "21/21 [==============================] - 75s 4s/step - loss: 0.9956 - accuracy: 0.5571 - auc: 0.8224 - val_loss: 1.0771 - val_accuracy: 0.5309 - val_auc: 0.7979\n",
      "Epoch 23/60\n",
      "21/21 [==============================] - ETA: 0s - loss: 0.9934 - accuracy: 0.5772 - auc: 0.8215\n",
      "Epoch 23: val_accuracy did not improve from 0.60494\n",
      "21/21 [==============================] - 76s 4s/step - loss: 0.9934 - accuracy: 0.5772 - auc: 0.8215 - val_loss: 1.0688 - val_accuracy: 0.5556 - val_auc: 0.8257\n",
      "Epoch 24/60\n",
      "21/21 [==============================] - ETA: 0s - loss: 0.9707 - accuracy: 0.5988 - auc: 0.8358\n",
      "Epoch 24: val_accuracy did not improve from 0.60494\n",
      "21/21 [==============================] - 75s 4s/step - loss: 0.9707 - accuracy: 0.5988 - auc: 0.8358 - val_loss: 1.0544 - val_accuracy: 0.5309 - val_auc: 0.8078\n",
      "Epoch 25/60\n",
      "21/21 [==============================] - ETA: 0s - loss: 1.0041 - accuracy: 0.5880 - auc: 0.8299\n",
      "Epoch 25: val_accuracy improved from 0.60494 to 0.61111, saving model to ham_multi_bestWeights_v3.h5\n",
      "21/21 [==============================] - 77s 4s/step - loss: 1.0041 - accuracy: 0.5880 - auc: 0.8299 - val_loss: 0.9955 - val_accuracy: 0.6111 - val_auc: 0.8209\n",
      "Epoch 26/60\n",
      "20/21 [===========================>..] - ETA: 3s - loss: 0.9980 - accuracy: 0.5795 - auc: 0.8249"
     ]
    }
   ],
   "source": [
    "history = model.fit(\n",
    "    train_generator, \n",
    "    steps_per_epoch=21,  \n",
    "    epochs=60,            \n",
    "    validation_data=val_generator,  \n",
    "    validation_steps=6,\n",
    "    callbacks = [checkpoint]\n",
    ")"
   ]
  },
  {
   "cell_type": "code",
   "execution_count": null,
   "id": "9d6e483f-7a24-4db9-bdd5-f5c630597914",
   "metadata": {},
   "outputs": [],
   "source": []
  }
 ],
 "metadata": {
  "kernelspec": {
   "display_name": "Python 3 (ipykernel)",
   "language": "python",
   "name": "python3"
  },
  "language_info": {
   "codemirror_mode": {
    "name": "ipython",
    "version": 3
   },
   "file_extension": ".py",
   "mimetype": "text/x-python",
   "name": "python",
   "nbconvert_exporter": "python",
   "pygments_lexer": "ipython3",
   "version": "3.8.9"
  }
 },
 "nbformat": 4,
 "nbformat_minor": 5
}
