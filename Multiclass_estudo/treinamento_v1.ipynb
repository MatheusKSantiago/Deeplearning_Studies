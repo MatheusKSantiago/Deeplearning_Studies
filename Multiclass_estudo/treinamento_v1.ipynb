{
 "cells": [
  {
   "cell_type": "code",
   "execution_count": 1,
   "id": "389fc42e-b385-40b1-8ac1-cad57c8dff18",
   "metadata": {},
   "outputs": [],
   "source": [
    "from tensorflow.keras.preprocessing.image import ImageDataGenerator\n",
    "from tensorflow.keras.models import Sequential\n",
    "from tensorflow.keras.callbacks import ModelCheckpoint\n",
    "from keras.layers import Conv2D, MaxPooling2D, Flatten, Dense, Dropout\n",
    "from tensorflow.keras.optimizers import Adam\n",
    "import os"
   ]
  },
  {
   "cell_type": "code",
   "execution_count": 34,
   "id": "b1ef039c-93b3-4c5e-9de0-7a3a303ad408",
   "metadata": {},
   "outputs": [],
   "source": [
    "train_datagen = ImageDataGenerator(\n",
    "    rescale=1./255,                  \n",
    "    rotation_range=40,               \n",
    "    width_shift_range=0.2,           \n",
    "    height_shift_range=0.2,          \n",
    "    shear_range=0.2,                 \n",
    "    zoom_range=0.2,                  \n",
    "    horizontal_flip=True,            \n",
    "    fill_mode='nearest',             \n",
    ")"
   ]
  },
  {
   "cell_type": "code",
   "execution_count": 35,
   "id": "1f22ca65-ed62-4f4f-8081-5f6873a90b5b",
   "metadata": {},
   "outputs": [
    {
     "name": "stdout",
     "output_type": "stream",
     "text": [
      "Found 648 images belonging to 4 classes.\n"
     ]
    }
   ],
   "source": [
    "train_generator = train_datagen.flow_from_directory(\n",
    "    os.path.join(\"datasets\",\"HAM10000_ESTRUTURADO\",\"treino\"),                        \n",
    "    target_size=(500, 500),          \n",
    "    batch_size=32,          \n",
    "    class_mode='categorical'     \n",
    ")"
   ]
  },
  {
   "cell_type": "code",
   "execution_count": 36,
   "id": "87b9a793-2fb1-474b-af9e-1c4019c21df1",
   "metadata": {},
   "outputs": [
    {
     "name": "stdout",
     "output_type": "stream",
     "text": [
      "Found 162 images belonging to 4 classes.\n"
     ]
    }
   ],
   "source": [
    "val_generator = train_datagen.flow_from_directory(\n",
    "    os.path.join(\"datasets\",\"HAM10000_ESTRUTURADO\",\"validacao\"),                        \n",
    "    target_size=(500, 500),          \n",
    "    batch_size=32,          \n",
    "    class_mode='categorical'     \n",
    ")"
   ]
  },
  {
   "cell_type": "code",
   "execution_count": 48,
   "id": "126a252a-f814-473e-bd6a-3602a2bda701",
   "metadata": {},
   "outputs": [],
   "source": [
    "model = Sequential([\n",
    "    Conv2D(32, (3, 3), activation='relu', input_shape=(500, 500, 3)),\n",
    "    MaxPooling2D(2, 2),\n",
    "    \n",
    "    Conv2D(64, (3, 3), activation='relu'),\n",
    "    MaxPooling2D(2, 2),\n",
    "    \n",
    "    Conv2D(128, (3, 3), activation='relu'),\n",
    "    MaxPooling2D(2, 2),\n",
    "    \n",
    "    Flatten(),\n",
    "    Dense(128, activation='relu'),\n",
    "    Dense(128, activation='relu'),\n",
    "    Dropout(0.3),               \n",
    "    Dense(4, activation='softmax')  \n",
    "])\n",
    "model.compile(optimizer='adam', loss='categorical_crossentropy', metrics=['accuracy','AUC'])"
   ]
  },
  {
   "cell_type": "code",
   "execution_count": 49,
   "id": "8db6fd23-98ac-4375-8a49-0c4e94d56fc8",
   "metadata": {},
   "outputs": [],
   "source": [
    "checkpoint = ModelCheckpoint(\"ham_multi_bestWeights_v3.h5\",\n",
    "                             monitor='val_accuracy',\n",
    "                             verbose=1,\n",
    "                             save_best_only=True,\n",
    "                             mode='max',\n",
    "                             save_weights_only=True)"
   ]
  },
  {
   "cell_type": "code",
   "execution_count": 47,
   "id": "d8cffd0e-d080-4f9a-a4fb-46e3ad3eb32f",
   "metadata": {},
   "outputs": [
    {
     "ename": "ValueError",
     "evalue": "Layer count mismatch when loading weights from file. Model expected 6 layers, found 5 saved layers.",
     "output_type": "error",
     "traceback": [
      "\u001b[1;31m---------------------------------------------------------------------------\u001b[0m",
      "\u001b[1;31mValueError\u001b[0m                                Traceback (most recent call last)",
      "Cell \u001b[1;32mIn[47], line 1\u001b[0m\n\u001b[1;32m----> 1\u001b[0m \u001b[43mmodel\u001b[49m\u001b[38;5;241;43m.\u001b[39;49m\u001b[43mload_weights\u001b[49m\u001b[43m(\u001b[49m\u001b[38;5;124;43m\"\u001b[39;49m\u001b[38;5;124;43mham_multi_bestWeights_v3.h5\u001b[39;49m\u001b[38;5;124;43m\"\u001b[39;49m\u001b[43m)\u001b[49m\n",
      "File \u001b[1;32mc:\\users\\matheus\\appdata\\local\\programs\\python\\python38\\lib\\site-packages\\keras\\utils\\traceback_utils.py:67\u001b[0m, in \u001b[0;36mfilter_traceback.<locals>.error_handler\u001b[1;34m(*args, **kwargs)\u001b[0m\n\u001b[0;32m     65\u001b[0m \u001b[38;5;28;01mexcept\u001b[39;00m \u001b[38;5;167;01mException\u001b[39;00m \u001b[38;5;28;01mas\u001b[39;00m e:  \u001b[38;5;66;03m# pylint: disable=broad-except\u001b[39;00m\n\u001b[0;32m     66\u001b[0m   filtered_tb \u001b[38;5;241m=\u001b[39m _process_traceback_frames(e\u001b[38;5;241m.\u001b[39m__traceback__)\n\u001b[1;32m---> 67\u001b[0m   \u001b[38;5;28;01mraise\u001b[39;00m e\u001b[38;5;241m.\u001b[39mwith_traceback(filtered_tb) \u001b[38;5;28;01mfrom\u001b[39;00m \u001b[38;5;28;01mNone\u001b[39;00m\n\u001b[0;32m     68\u001b[0m \u001b[38;5;28;01mfinally\u001b[39;00m:\n\u001b[0;32m     69\u001b[0m   \u001b[38;5;28;01mdel\u001b[39;00m filtered_tb\n",
      "File \u001b[1;32mc:\\users\\matheus\\appdata\\local\\programs\\python\\python38\\lib\\site-packages\\keras\\saving\\hdf5_format.py:728\u001b[0m, in \u001b[0;36mload_weights_from_hdf5_group\u001b[1;34m(f, model)\u001b[0m\n\u001b[0;32m    726\u001b[0m layer_names \u001b[38;5;241m=\u001b[39m filtered_layer_names\n\u001b[0;32m    727\u001b[0m \u001b[38;5;28;01mif\u001b[39;00m \u001b[38;5;28mlen\u001b[39m(layer_names) \u001b[38;5;241m!=\u001b[39m \u001b[38;5;28mlen\u001b[39m(filtered_layers):\n\u001b[1;32m--> 728\u001b[0m   \u001b[38;5;28;01mraise\u001b[39;00m \u001b[38;5;167;01mValueError\u001b[39;00m(\n\u001b[0;32m    729\u001b[0m       \u001b[38;5;124mf\u001b[39m\u001b[38;5;124m'\u001b[39m\u001b[38;5;124mLayer count mismatch when loading weights from file. \u001b[39m\u001b[38;5;124m'\u001b[39m\n\u001b[0;32m    730\u001b[0m       \u001b[38;5;124mf\u001b[39m\u001b[38;5;124m'\u001b[39m\u001b[38;5;124mModel expected \u001b[39m\u001b[38;5;132;01m{\u001b[39;00m\u001b[38;5;28mlen\u001b[39m(filtered_layers)\u001b[38;5;132;01m}\u001b[39;00m\u001b[38;5;124m layers, found \u001b[39m\u001b[38;5;124m'\u001b[39m\n\u001b[0;32m    731\u001b[0m       \u001b[38;5;124mf\u001b[39m\u001b[38;5;124m'\u001b[39m\u001b[38;5;132;01m{\u001b[39;00m\u001b[38;5;28mlen\u001b[39m(layer_names)\u001b[38;5;132;01m}\u001b[39;00m\u001b[38;5;124m saved layers.\u001b[39m\u001b[38;5;124m'\u001b[39m)\n\u001b[0;32m    733\u001b[0m \u001b[38;5;66;03m# We batch weight value assignments in a single backend call\u001b[39;00m\n\u001b[0;32m    734\u001b[0m \u001b[38;5;66;03m# which provides a speedup in TensorFlow.\u001b[39;00m\n\u001b[0;32m    735\u001b[0m weight_value_tuples \u001b[38;5;241m=\u001b[39m []\n",
      "\u001b[1;31mValueError\u001b[0m: Layer count mismatch when loading weights from file. Model expected 6 layers, found 5 saved layers."
     ]
    }
   ],
   "source": [
    "model.load_weights(\"ham_multi_bestWeights_v3.h5\")"
   ]
  },
  {
   "cell_type": "code",
   "execution_count": 50,
   "id": "033bcb55-a44c-4998-bb17-00746d8f3999",
   "metadata": {},
   "outputs": [
    {
     "name": "stdout",
     "output_type": "stream",
     "text": [
      "Epoch 1/4\n",
      "21/21 [==============================] - ETA: 0s - loss: 3.4364 - accuracy: 0.2608 - auc: 0.4960\n",
      "Epoch 1: val_accuracy improved from -inf to 0.25926, saving model to ham_multi_bestWeights_v3.h5\n",
      "21/21 [==============================] - 80s 4s/step - loss: 3.4364 - accuracy: 0.2608 - auc: 0.4960 - val_loss: 1.3818 - val_accuracy: 0.2593 - val_auc: 0.5504\n",
      "Epoch 2/4\n",
      "21/21 [==============================] - ETA: 0s - loss: 1.3769 - accuracy: 0.3009 - auc: 0.5504\n",
      "Epoch 2: val_accuracy improved from 0.25926 to 0.29012, saving model to ham_multi_bestWeights_v3.h5\n",
      "21/21 [==============================] - 77s 4s/step - loss: 1.3769 - accuracy: 0.3009 - auc: 0.5504 - val_loss: 1.3933 - val_accuracy: 0.2901 - val_auc: 0.5600\n",
      "Epoch 3/4\n",
      "21/21 [==============================] - ETA: 0s - loss: 1.4139 - accuracy: 0.2608 - auc: 0.5288\n",
      "Epoch 3: val_accuracy did not improve from 0.29012\n",
      "21/21 [==============================] - 75s 4s/step - loss: 1.4139 - accuracy: 0.2608 - auc: 0.5288 - val_loss: 1.3867 - val_accuracy: 0.2469 - val_auc: 0.4967\n",
      "Epoch 4/4\n",
      "21/21 [==============================] - ETA: 0s - loss: 1.3867 - accuracy: 0.2500 - auc: 0.5008\n",
      "Epoch 4: val_accuracy did not improve from 0.29012\n",
      "21/21 [==============================] - 77s 4s/step - loss: 1.3867 - accuracy: 0.2500 - auc: 0.5008 - val_loss: 1.3863 - val_accuracy: 0.2469 - val_auc: 0.4979\n"
     ]
    }
   ],
   "source": [
    "history = model.fit(\n",
    "    train_generator, \n",
    "    steps_per_epoch=21,  \n",
    "    epochs=4,            \n",
    "    validation_data=val_generator,  \n",
    "    validation_steps=6,\n",
    "    callbacks = [checkpoint]\n",
    ")"
   ]
  },
  {
   "cell_type": "code",
   "execution_count": null,
   "id": "9d6e483f-7a24-4db9-bdd5-f5c630597914",
   "metadata": {},
   "outputs": [],
   "source": []
  }
 ],
 "metadata": {
  "kernelspec": {
   "display_name": "Python 3 (ipykernel)",
   "language": "python",
   "name": "python3"
  },
  "language_info": {
   "codemirror_mode": {
    "name": "ipython",
    "version": 3
   },
   "file_extension": ".py",
   "mimetype": "text/x-python",
   "name": "python",
   "nbconvert_exporter": "python",
   "pygments_lexer": "ipython3",
   "version": "3.8.9"
  }
 },
 "nbformat": 4,
 "nbformat_minor": 5
}
