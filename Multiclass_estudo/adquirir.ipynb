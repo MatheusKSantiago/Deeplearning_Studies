{
 "cells": [
  {
   "cell_type": "markdown",
   "id": "19fdd805-2087-47cb-9381-7dd9979d2635",
   "metadata": {},
   "source": [
    "# Importações"
   ]
  },
  {
   "cell_type": "code",
   "execution_count": 51,
   "id": "c866b8d7-ad41-4751-9878-4d3359022ce6",
   "metadata": {},
   "outputs": [],
   "source": [
    "import pandas as pd\n",
    "import seaborn as sns\n",
    "import matplotlib.pyplot as plt\n",
    "import os\n",
    "import shutil\n",
    "from sklearn.model_selection import train_test_split"
   ]
  },
  {
   "cell_type": "markdown",
   "id": "8fd74688-1e62-4d54-9196-58508e1d8862",
   "metadata": {},
   "source": [
    "# Adquirindo os metadados"
   ]
  },
  {
   "cell_type": "code",
   "execution_count": 52,
   "id": "414b51f1-5abd-42c9-bfdc-46ccc702aa7a",
   "metadata": {},
   "outputs": [],
   "source": [
    "df = pd.read_csv(os.path.join(\"datasets\",\"HAM10000\",\"dataverse_files\",\"HAM10000_metadata\"))"
   ]
  },
  {
   "cell_type": "code",
   "execution_count": 53,
   "id": "e8929b53-a7d8-4df9-a874-dfacdb816da4",
   "metadata": {},
   "outputs": [
    {
     "data": {
      "text/html": [
       "<div>\n",
       "<style scoped>\n",
       "    .dataframe tbody tr th:only-of-type {\n",
       "        vertical-align: middle;\n",
       "    }\n",
       "\n",
       "    .dataframe tbody tr th {\n",
       "        vertical-align: top;\n",
       "    }\n",
       "\n",
       "    .dataframe thead th {\n",
       "        text-align: right;\n",
       "    }\n",
       "</style>\n",
       "<table border=\"1\" class=\"dataframe\">\n",
       "  <thead>\n",
       "    <tr style=\"text-align: right;\">\n",
       "      <th></th>\n",
       "      <th>lesion_id</th>\n",
       "      <th>image_id</th>\n",
       "      <th>dx</th>\n",
       "      <th>dx_type</th>\n",
       "      <th>age</th>\n",
       "      <th>sex</th>\n",
       "      <th>localization</th>\n",
       "      <th>dataset</th>\n",
       "    </tr>\n",
       "  </thead>\n",
       "  <tbody>\n",
       "    <tr>\n",
       "      <th>0</th>\n",
       "      <td>HAM_0000118</td>\n",
       "      <td>ISIC_0027419</td>\n",
       "      <td>bkl</td>\n",
       "      <td>histo</td>\n",
       "      <td>80.0</td>\n",
       "      <td>male</td>\n",
       "      <td>scalp</td>\n",
       "      <td>vidir_modern</td>\n",
       "    </tr>\n",
       "    <tr>\n",
       "      <th>1</th>\n",
       "      <td>HAM_0000118</td>\n",
       "      <td>ISIC_0025030</td>\n",
       "      <td>bkl</td>\n",
       "      <td>histo</td>\n",
       "      <td>80.0</td>\n",
       "      <td>male</td>\n",
       "      <td>scalp</td>\n",
       "      <td>vidir_modern</td>\n",
       "    </tr>\n",
       "    <tr>\n",
       "      <th>2</th>\n",
       "      <td>HAM_0002730</td>\n",
       "      <td>ISIC_0026769</td>\n",
       "      <td>bkl</td>\n",
       "      <td>histo</td>\n",
       "      <td>80.0</td>\n",
       "      <td>male</td>\n",
       "      <td>scalp</td>\n",
       "      <td>vidir_modern</td>\n",
       "    </tr>\n",
       "    <tr>\n",
       "      <th>3</th>\n",
       "      <td>HAM_0002730</td>\n",
       "      <td>ISIC_0025661</td>\n",
       "      <td>bkl</td>\n",
       "      <td>histo</td>\n",
       "      <td>80.0</td>\n",
       "      <td>male</td>\n",
       "      <td>scalp</td>\n",
       "      <td>vidir_modern</td>\n",
       "    </tr>\n",
       "    <tr>\n",
       "      <th>4</th>\n",
       "      <td>HAM_0001466</td>\n",
       "      <td>ISIC_0031633</td>\n",
       "      <td>bkl</td>\n",
       "      <td>histo</td>\n",
       "      <td>75.0</td>\n",
       "      <td>male</td>\n",
       "      <td>ear</td>\n",
       "      <td>vidir_modern</td>\n",
       "    </tr>\n",
       "  </tbody>\n",
       "</table>\n",
       "</div>"
      ],
      "text/plain": [
       "     lesion_id      image_id   dx dx_type   age   sex localization  \\\n",
       "0  HAM_0000118  ISIC_0027419  bkl   histo  80.0  male        scalp   \n",
       "1  HAM_0000118  ISIC_0025030  bkl   histo  80.0  male        scalp   \n",
       "2  HAM_0002730  ISIC_0026769  bkl   histo  80.0  male        scalp   \n",
       "3  HAM_0002730  ISIC_0025661  bkl   histo  80.0  male        scalp   \n",
       "4  HAM_0001466  ISIC_0031633  bkl   histo  75.0  male          ear   \n",
       "\n",
       "        dataset  \n",
       "0  vidir_modern  \n",
       "1  vidir_modern  \n",
       "2  vidir_modern  \n",
       "3  vidir_modern  \n",
       "4  vidir_modern  "
      ]
     },
     "execution_count": 53,
     "metadata": {},
     "output_type": "execute_result"
    }
   ],
   "source": [
    "df.head()"
   ]
  },
  {
   "cell_type": "code",
   "execution_count": 54,
   "id": "3ff634e6-9e7a-40fc-bb19-7f1fb4b7b163",
   "metadata": {},
   "outputs": [
    {
     "name": "stdout",
     "output_type": "stream",
     "text": [
      "<class 'pandas.core.frame.DataFrame'>\n",
      "RangeIndex: 10015 entries, 0 to 10014\n",
      "Data columns (total 8 columns):\n",
      " #   Column        Non-Null Count  Dtype  \n",
      "---  ------        --------------  -----  \n",
      " 0   lesion_id     10015 non-null  object \n",
      " 1   image_id      10015 non-null  object \n",
      " 2   dx            10015 non-null  object \n",
      " 3   dx_type       10015 non-null  object \n",
      " 4   age           9958 non-null   float64\n",
      " 5   sex           10015 non-null  object \n",
      " 6   localization  10015 non-null  object \n",
      " 7   dataset       10015 non-null  object \n",
      "dtypes: float64(1), object(7)\n",
      "memory usage: 626.1+ KB\n"
     ]
    }
   ],
   "source": [
    "df.info()"
   ]
  },
  {
   "cell_type": "markdown",
   "id": "3103eefb-64b7-467a-aae5-523115f5b066",
   "metadata": {},
   "source": [
    "# Visualização das Categorias"
   ]
  },
  {
   "cell_type": "code",
   "execution_count": 55,
   "id": "82f211d7-2b0a-4e9b-a4d0-9b66768bf089",
   "metadata": {},
   "outputs": [
    {
     "data": {
      "text/plain": [
       "<BarContainer object of 7 artists>"
      ]
     },
     "execution_count": 55,
     "metadata": {},
     "output_type": "execute_result"
    },
    {
     "data": {
      "image/png": "[encoded data removed]",
      "text/plain": [
       "<Figure size 640x480 with 1 Axes>"
      ]
     },
     "metadata": {},
     "output_type": "display_data"
    }
   ],
   "source": [
    "counts = df['dx'].value_counts() \n",
    "\n",
    "plt.bar(counts.index, counts,color=['green','black','pink','blue','blue','blue','blue'])"
   ]
  },
  {
   "cell_type": "code",
   "execution_count": 56,
   "id": "15ec4e28-8809-46cf-854e-85c115c056bd",
   "metadata": {},
   "outputs": [
    {
     "data": {
      "text/plain": [
       "dx\n",
       "nv       6705\n",
       "mel      1113\n",
       "bkl      1099\n",
       "bcc       514\n",
       "akiec     327\n",
       "vasc      142\n",
       "df        115\n",
       "Name: count, dtype: int64"
      ]
     },
     "execution_count": 56,
     "metadata": {},
     "output_type": "execute_result"
    }
   ],
   "source": [
    "counts"
   ]
  },
  {
   "cell_type": "code",
   "execution_count": 7,
   "id": "ead8c097-6c49-4091-9bc2-7c768a984747",
   "metadata": {},
   "outputs": [
    {
     "data": {
      "text/plain": [
       "0.6694957563654518"
      ]
     },
     "execution_count": 7,
     "metadata": {},
     "output_type": "execute_result"
    }
   ],
   "source": [
    "counts['nv']/counts.sum()"
   ]
  },
  {
   "cell_type": "markdown",
   "id": "57470060-29b8-4da8-9163-4e5a85cfb82f",
   "metadata": {},
   "source": [
    "# Boxplot"
   ]
  },
  {
   "cell_type": "code",
   "execution_count": 8,
   "id": "551f8b5b-67f5-4a3b-854d-366e99edff82",
   "metadata": {},
   "outputs": [
    {
     "data": {
      "text/plain": [
       "<Axes: ylabel='age'>"
      ]
     },
     "execution_count": 8,
     "metadata": {},
     "output_type": "execute_result"
    },
    {
     "data": {
      "image/png": "[encoded data removed]",
      "text/plain": [
       "<Figure size 640x480 with 1 Axes>"
      ]
     },
     "metadata": {},
     "output_type": "display_data"
    }
   ],
   "source": [
    "sns.boxplot(df['age'])"
   ]
  },
  {
   "cell_type": "code",
   "execution_count": 9,
   "id": "2a048f58-b171-425a-92ba-d2fd29014acf",
   "metadata": {},
   "outputs": [
    {
     "data": {
      "text/plain": [
       "sex\n",
       "male       5406\n",
       "female     4552\n",
       "unknown      57\n",
       "Name: count, dtype: int64"
      ]
     },
     "execution_count": 9,
     "metadata": {},
     "output_type": "execute_result"
    }
   ],
   "source": [
    "df['sex'].value_counts()"
   ]
  },
  {
   "cell_type": "code",
   "execution_count": 10,
   "id": "e5a8b140-b80e-46ad-b6de-c89abcd9c400",
   "metadata": {},
   "outputs": [
    {
     "data": {
      "text/plain": [
       "0.5397903145282077"
      ]
     },
     "execution_count": 10,
     "metadata": {},
     "output_type": "execute_result"
    }
   ],
   "source": [
    "df[df['sex']=='male']['sex'].count()/df.shape[0]"
   ]
  },
  {
   "cell_type": "markdown",
   "id": "b30e6e66-8256-4b9d-9f6a-a7bd10fe9724",
   "metadata": {},
   "source": [
    "# Diminuindo a Quantidade\n",
    "esse procedimento visa diminuir o desbalanceamento e também tornar mais rápido o treinamento"
   ]
  },
  {
   "cell_type": "code",
   "execution_count": 57,
   "id": "7e6a3a77-3c59-44fd-8749-a56bf4781c4c",
   "metadata": {},
   "outputs": [],
   "source": [
    "linhas_excluir_nv = df[df['dx']==\"nv\"].sample(frac=0.97,random_state=42)\n",
    "linhas_excluir_mel = df[df['dx']==\"mel\"].sample(frac=0.82,random_state=42)\n",
    "linhas_excluir_bkl = df[df['dx']==\"bkl\"].sample(frac=0.81,random_state=42)\n",
    "linhas_excluir_bcc = df[df['dx']==\"bcc\"].sample(frac=0.61,random_state=42)\n",
    "df = df.drop(linhas_excluir_nv.index)\n",
    "df = df.drop(linhas_excluir_mel.index)\n",
    "df = df.drop(linhas_excluir_bkl.index)\n",
    "df = df.drop(linhas_excluir_bcc.index)"
   ]
  },
  {
   "cell_type": "markdown",
   "id": "7db782d7-efba-44f2-bc43-6f02b720a8ed",
   "metadata": {
    "jp-MarkdownHeadingCollapsed": true
   },
   "source": [
    "# Mudanças de Categorias"
   ]
  },
  {
   "cell_type": "code",
   "execution_count": 20,
   "id": "e2db205c-e45b-4ee3-92e7-6d0bc0d3aa19",
   "metadata": {},
   "outputs": [],
   "source": [
    "# mopm : maligna ou potencialmente maligna\n",
    "df['dx'] = df['dx'].apply(lambda categoria: \"mopm\" if categoria in [\"bcc\",\"akiec\"] else \"benigna\" if categoria in [\"nv\",\"vasc\",\"df\"] else categoria)"
   ]
  },
  {
   "cell_type": "code",
   "execution_count": 21,
   "id": "c3c3f4d3-70d0-47c4-b95a-6fb78e307081",
   "metadata": {},
   "outputs": [
    {
     "data": {
      "text/plain": [
       "dx\n",
       "benigna    1598\n",
       "mel        1113\n",
       "bkl        1099\n",
       "mopm        841\n",
       "Name: count, dtype: int64"
      ]
     },
     "execution_count": 21,
     "metadata": {},
     "output_type": "execute_result"
    }
   ],
   "source": [
    "df['dx'].value_counts()"
   ]
  },
  {
   "cell_type": "markdown",
   "id": "d6326def-2ede-4603-9f22-ae2335eef837",
   "metadata": {},
   "source": [
    "# Excluir categorias"
   ]
  },
  {
   "cell_type": "code",
   "execution_count": 58,
   "id": "d120dd79-1496-4aa3-bdbe-ad047cdc5c11",
   "metadata": {},
   "outputs": [],
   "source": [
    "df.drop(df[df['dx'].isin(['akiec','vasc','df'])].index,inplace=True)"
   ]
  },
  {
   "cell_type": "code",
   "execution_count": 59,
   "id": "c6679a7e-e301-4635-bc5b-51f1b8b8be42",
   "metadata": {},
   "outputs": [
    {
     "data": {
      "text/plain": [
       "(810, 8)"
      ]
     },
     "execution_count": 59,
     "metadata": {},
     "output_type": "execute_result"
    }
   ],
   "source": [
    "df.shape"
   ]
  },
  {
   "cell_type": "code",
   "execution_count": 60,
   "id": "1c908031-b980-4d2a-9507-ea1f228740d2",
   "metadata": {},
   "outputs": [
    {
     "data": {
      "text/plain": [
       "dx\n",
       "bkl    209\n",
       "nv     201\n",
       "mel    200\n",
       "bcc    200\n",
       "Name: count, dtype: int64"
      ]
     },
     "execution_count": 60,
     "metadata": {},
     "output_type": "execute_result"
    }
   ],
   "source": [
    "df['dx'].value_counts()"
   ]
  },
  {
   "cell_type": "code",
   "execution_count": null,
   "id": "3e2f3b15-ff6f-4158-8479-de9725abef8e",
   "metadata": {},
   "outputs": [],
   "source": []
  },
  {
   "cell_type": "code",
   "execution_count": 62,
   "id": "9e0301d1-4a76-4076-a20a-263c26f51918",
   "metadata": {},
   "outputs": [],
   "source": [
    "X_train,X_test,y_train,y_test = train_test_split(df.drop(\"dx\",axis=1),df['dx'],test_size=0.2,random_state=42,stratify=df['dx'])"
   ]
  },
  {
   "cell_type": "code",
   "execution_count": 63,
   "id": "3c35ea8d-9d8c-460b-90fc-20f40cd23ff2",
   "metadata": {},
   "outputs": [],
   "source": [
    "def organizar_pastas(destino):\n",
    "    origens = [\n",
    "        os.path.join(\"datasets\",\"HAM10000\",\"dataverse_files\",\"HAM10000_images_part_1\"),\n",
    "        os.path.join(\"datasets\",\"HAM10000\",\"dataverse_files\",\"HAM10000_images_part_2\")\n",
    "    ]\n",
    "    os.makedirs(destino,exist_ok=True)\n",
    "\n",
    "    \n",
    "    for categoria in df['dx'].value_counts().index:       \n",
    "        os.makedirs(os.path.join(destino,\"treino\",categoria),exist_ok=True)\n",
    "        os.makedirs(os.path.join(destino,\"validacao\",categoria),exist_ok=True)\n",
    "        \n",
    "    for image_id,categoria in zip(X_train[\"image_id\"],y_train):\n",
    "        try:\n",
    "            shutil.copy2(os.path.join(origens[0],image_id+\".jpg\"),os.path.join(destino,\"treino\",categoria))\n",
    "        except:\n",
    "            shutil.copy2(os.path.join(origens[1],image_id+\".jpg\"),os.path.join(destino,\"treino\",categoria))\n",
    "\n",
    "    for image_id,categoria in zip(X_test[\"image_id\"],y_test):\n",
    "        try:\n",
    "            shutil.copy2(os.path.join(origens[0],image_id+\".jpg\"),os.path.join(destino,\"validacao\",categoria))\n",
    "        except:\n",
    "            shutil.copy2(os.path.join(origens[1],image_id+\".jpg\"),os.path.join(destino,\"validacao\",categoria))"
   ]
  },
  {
   "cell_type": "code",
   "execution_count": 64,
   "id": "edbc3682-b589-4e4a-86e5-9dfa39fcafce",
   "metadata": {
    "scrolled": true
   },
   "outputs": [],
   "source": [
    "organizar_pastas(os.path.join(\"datasets\",\"HAM10000_ESTRUTURADO\"))"
   ]
  },
  {
   "cell_type": "markdown",
   "id": "f9ebf772-d2aa-464b-a741-840e9e243f1e",
   "metadata": {},
   "source": [
    "# SALVAR DATAFRAME"
   ]
  },
  {
   "cell_type": "code",
   "execution_count": 66,
   "id": "f13dc3e6-75fe-421a-b41d-143f7f803058",
   "metadata": {},
   "outputs": [],
   "source": [
    "y_test.to_csv(\"y_test_v3.csv\",index=False)"
   ]
  },
  {
   "cell_type": "code",
   "execution_count": null,
   "id": "ae586130-4b6e-4037-9042-83490a28a0a7",
   "metadata": {},
   "outputs": [],
   "source": []
  }
 ],
 "metadata": {
  "kernelspec": {
   "display_name": "Python 3 (ipykernel)",
   "language": "python",
   "name": "python3"
  },
  "language_info": {
   "codemirror_mode": {
    "name": "ipython",
    "version": 3
   },
   "file_extension": ".py",
   "mimetype": "text/x-python",
   "name": "python",
   "nbconvert_exporter": "python",
   "pygments_lexer": "ipython3",
   "version": "3.8.9"
  }
 },
 "nbformat": 4,
 "nbformat_minor": 5
}
