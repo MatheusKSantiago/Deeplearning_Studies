{
 "cells": [
  {
   "cell_type": "markdown",
   "id": "80e6d179-264c-4693-b0eb-7dcfd2aaa63a",
   "metadata": {},
   "source": [
    "# Importações"
   ]
  },
  {
   "cell_type": "code",
   "execution_count": 31,
   "id": "050bfcc7-e25b-4a6e-922d-e867e52f9686",
   "metadata": {},
   "outputs": [],
   "source": [
    "import pandas as pd\n",
    "from sklearn.pipeline import Pipeline\n",
    "from sklearn.compose import ColumnTransformer\n",
    "from sklearn.preprocessing import FunctionTransformer\n",
    "from sklearn.model_selection import train_test_split\n",
    "import matplotlib.pyplot as plt\n",
    "import os\n",
    "import shutil"
   ]
  },
  {
   "cell_type": "markdown",
   "id": "4d55e618-2983-490b-b857-9384f4dfc5cc",
   "metadata": {},
   "source": [
    "# Coleta Metadados"
   ]
  },
  {
   "cell_type": "code",
   "execution_count": 32,
   "id": "0db740c7-438e-4364-96ad-b55d85f449c6",
   "metadata": {},
   "outputs": [],
   "source": [
    "metadados_path = os.path.join(\"..\",\"datasets\",\"PH2Dataset\",\"PH2_dataset.xlsx\")"
   ]
  },
  {
   "cell_type": "code",
   "execution_count": 33,
   "id": "045c3b43-f55b-4a55-a9e9-ace31feaf269",
   "metadata": {},
   "outputs": [],
   "source": [
    "df = pd.read_excel(metadados_path,header=12)"
   ]
  },
  {
   "cell_type": "code",
   "execution_count": 34,
   "id": "c569e699-effe-4b54-becc-8c04176d63e1",
   "metadata": {},
   "outputs": [
    {
     "data": {
      "text/html": [
       "<div>\n",
       "<style scoped>\n",
       "    .dataframe tbody tr th:only-of-type {\n",
       "        vertical-align: middle;\n",
       "    }\n",
       "\n",
       "    .dataframe tbody tr th {\n",
       "        vertical-align: top;\n",
       "    }\n",
       "\n",
       "    .dataframe thead th {\n",
       "        text-align: right;\n",
       "    }\n",
       "</style>\n",
       "<table border=\"1\" class=\"dataframe\">\n",
       "  <thead>\n",
       "    <tr style=\"text-align: right;\">\n",
       "      <th></th>\n",
       "      <th>Image Name</th>\n",
       "      <th>Histological Diagnosis</th>\n",
       "      <th>Common Nevus</th>\n",
       "      <th>Atypical Nevus</th>\n",
       "      <th>Melanoma</th>\n",
       "      <th>Asymmetry\\n(0/1/2)</th>\n",
       "      <th>Pigment Network\\n(AT/T)</th>\n",
       "      <th>Dots/Globules\\n(A/AT/T)</th>\n",
       "      <th>Streaks\\n(A/P)</th>\n",
       "      <th>Regression Areas\\n(A/P)</th>\n",
       "      <th>Blue-Whitish Veil\\n(A/P)</th>\n",
       "      <th>White</th>\n",
       "      <th>Red</th>\n",
       "      <th>Light-Brown</th>\n",
       "      <th>Dark-Brown</th>\n",
       "      <th>Blue-Gray</th>\n",
       "      <th>Black</th>\n",
       "    </tr>\n",
       "  </thead>\n",
       "  <tbody>\n",
       "    <tr>\n",
       "      <th>0</th>\n",
       "      <td>IMD003</td>\n",
       "      <td>NaN</td>\n",
       "      <td>X</td>\n",
       "      <td>NaN</td>\n",
       "      <td>NaN</td>\n",
       "      <td>0</td>\n",
       "      <td>T</td>\n",
       "      <td>A</td>\n",
       "      <td>A</td>\n",
       "      <td>A</td>\n",
       "      <td>A</td>\n",
       "      <td>NaN</td>\n",
       "      <td>NaN</td>\n",
       "      <td>NaN</td>\n",
       "      <td>X</td>\n",
       "      <td>NaN</td>\n",
       "      <td>NaN</td>\n",
       "    </tr>\n",
       "    <tr>\n",
       "      <th>1</th>\n",
       "      <td>IMD009</td>\n",
       "      <td>NaN</td>\n",
       "      <td>X</td>\n",
       "      <td>NaN</td>\n",
       "      <td>NaN</td>\n",
       "      <td>0</td>\n",
       "      <td>T</td>\n",
       "      <td>A</td>\n",
       "      <td>A</td>\n",
       "      <td>A</td>\n",
       "      <td>A</td>\n",
       "      <td>NaN</td>\n",
       "      <td>NaN</td>\n",
       "      <td>X</td>\n",
       "      <td>NaN</td>\n",
       "      <td>NaN</td>\n",
       "      <td>NaN</td>\n",
       "    </tr>\n",
       "    <tr>\n",
       "      <th>2</th>\n",
       "      <td>IMD016</td>\n",
       "      <td>NaN</td>\n",
       "      <td>X</td>\n",
       "      <td>NaN</td>\n",
       "      <td>NaN</td>\n",
       "      <td>0</td>\n",
       "      <td>T</td>\n",
       "      <td>T</td>\n",
       "      <td>A</td>\n",
       "      <td>A</td>\n",
       "      <td>A</td>\n",
       "      <td>NaN</td>\n",
       "      <td>NaN</td>\n",
       "      <td>X</td>\n",
       "      <td>X</td>\n",
       "      <td>NaN</td>\n",
       "      <td>NaN</td>\n",
       "    </tr>\n",
       "    <tr>\n",
       "      <th>3</th>\n",
       "      <td>IMD022</td>\n",
       "      <td>NaN</td>\n",
       "      <td>X</td>\n",
       "      <td>NaN</td>\n",
       "      <td>NaN</td>\n",
       "      <td>0</td>\n",
       "      <td>T</td>\n",
       "      <td>A</td>\n",
       "      <td>A</td>\n",
       "      <td>A</td>\n",
       "      <td>A</td>\n",
       "      <td>NaN</td>\n",
       "      <td>NaN</td>\n",
       "      <td>X</td>\n",
       "      <td>NaN</td>\n",
       "      <td>NaN</td>\n",
       "      <td>NaN</td>\n",
       "    </tr>\n",
       "    <tr>\n",
       "      <th>4</th>\n",
       "      <td>IMD024</td>\n",
       "      <td>NaN</td>\n",
       "      <td>X</td>\n",
       "      <td>NaN</td>\n",
       "      <td>NaN</td>\n",
       "      <td>0</td>\n",
       "      <td>T</td>\n",
       "      <td>A</td>\n",
       "      <td>A</td>\n",
       "      <td>A</td>\n",
       "      <td>A</td>\n",
       "      <td>NaN</td>\n",
       "      <td>NaN</td>\n",
       "      <td>X</td>\n",
       "      <td>X</td>\n",
       "      <td>NaN</td>\n",
       "      <td>NaN</td>\n",
       "    </tr>\n",
       "  </tbody>\n",
       "</table>\n",
       "</div>"
      ],
      "text/plain": [
       "  Image Name Histological Diagnosis Common Nevus Atypical Nevus Melanoma  \\\n",
       "0     IMD003                    NaN            X            NaN      NaN   \n",
       "1     IMD009                    NaN            X            NaN      NaN   \n",
       "2     IMD016                    NaN            X            NaN      NaN   \n",
       "3     IMD022                    NaN            X            NaN      NaN   \n",
       "4     IMD024                    NaN            X            NaN      NaN   \n",
       "\n",
       "   Asymmetry\\n(0/1/2) Pigment Network\\n(AT/T) Dots/Globules\\n(A/AT/T)  \\\n",
       "0                   0                       T                       A   \n",
       "1                   0                       T                       A   \n",
       "2                   0                       T                       T   \n",
       "3                   0                       T                       A   \n",
       "4                   0                       T                       A   \n",
       "\n",
       "  Streaks\\n(A/P) Regression Areas\\n(A/P) Blue-Whitish Veil\\n(A/P) White  Red  \\\n",
       "0              A                       A                        A   NaN  NaN   \n",
       "1              A                       A                        A   NaN  NaN   \n",
       "2              A                       A                        A   NaN  NaN   \n",
       "3              A                       A                        A   NaN  NaN   \n",
       "4              A                       A                        A   NaN  NaN   \n",
       "\n",
       "  Light-Brown Dark-Brown Blue-Gray Black  \n",
       "0         NaN          X       NaN   NaN  \n",
       "1           X        NaN       NaN   NaN  \n",
       "2           X          X       NaN   NaN  \n",
       "3           X        NaN       NaN   NaN  \n",
       "4           X          X       NaN   NaN  "
      ]
     },
     "execution_count": 34,
     "metadata": {},
     "output_type": "execute_result"
    }
   ],
   "source": [
    "df.head()"
   ]
  },
  {
   "cell_type": "markdown",
   "id": "5b740308-18b1-412e-b7b7-2da55aeb7ded",
   "metadata": {},
   "source": [
    "# Visualização das Classes"
   ]
  },
  {
   "cell_type": "code",
   "execution_count": 35,
   "id": "8b84a7c9-ef70-403a-b29e-4c17c93896b8",
   "metadata": {},
   "outputs": [
    {
     "data": {
      "image/png": "[encoded data removed]",
      "text/plain": [
       "<Figure size 800x600 with 1 Axes>"
      ]
     },
     "metadata": {},
     "output_type": "display_data"
    }
   ],
   "source": [
    "contagem_atypical = df[df[\"Atypical Nevus\"] == \"X\"].shape[0]\n",
    "contagem_common = df[df[\"Common Nevus\"] == \"X\"].shape[0]\n",
    "contagem_melanoma = df[df[\"Melanoma\"] == \"X\"].shape[0]\n",
    "\n",
    "\n",
    "categorias = [\"Atypical Nevus\", \"Common Nevus\", \"Melanoma\"]\n",
    "contagens = [contagem_atypical, contagem_common, contagem_melanoma]\n",
    "\n",
    "plt.figure(figsize=(8, 6))  \n",
    "plt.bar(categorias, contagens, color=['blue', 'green', 'red'])\n",
    "\n",
    "plt.title(\"Distribuição de Lesões por Tipo\")\n",
    "plt.xlabel(\"Tipo de Lesão\")\n",
    "plt.ylabel(\"Número de Ocorrências\")\n",
    "\n",
    "plt.show()"
   ]
  },
  {
   "cell_type": "markdown",
   "id": "2dec7927-f814-46e8-965c-9a2e46331903",
   "metadata": {},
   "source": [
    "# Pipeline Dataframe"
   ]
  },
  {
   "cell_type": "code",
   "execution_count": 36,
   "id": "dc1f8286-8e5c-47e2-b019-27568aa803c3",
   "metadata": {},
   "outputs": [],
   "source": [
    "indiceRemover = list(df.columns).index(\"Asymmetry\\n(0/1/2)\")\n",
    "\n",
    "def limparColunas(X):\n",
    "    df1 = X.iloc[:, :indiceRemover]\n",
    "    df1[\"classificacao\"] = df1.apply(lambda row: 'maligno' if row['Melanoma'] == \"X\" else 'benigno',axis=1)\n",
    "    df1.drop(['Melanoma','Atypical Nevus','Common Nevus',\"Histological Diagnosis\"],inplace=True,axis=1)\n",
    "    return df1"
   ]
  },
  {
   "cell_type": "code",
   "execution_count": 37,
   "id": "44f964db-087e-4fff-b069-4aee89f30f9c",
   "metadata": {},
   "outputs": [],
   "source": [
    "def dividir_treino_validacao(DF):\n",
    "    X = DF.drop(\"classificacao\",axis=1)\n",
    "    y = DF.drop(\"Image Name\",axis=1)\n",
    "    X_train,X_val,y_train,y_val = train_test_split(X,y,random_state=42,test_size=0.2,stratify=y)\n",
    "    return X_train,X_val,y_train,y_val"
   ]
  },
  {
   "cell_type": "code",
   "execution_count": 38,
   "id": "e14a9c3a-a599-4218-b939-7584e312acb2",
   "metadata": {},
   "outputs": [],
   "source": [
    "pipeline = Pipeline([\n",
    "    (\"limpa\",FunctionTransformer(limparColunas)),\n",
    "    (\"divide\",FunctionTransformer(dividir_treino_validacao))\n",
    "])"
   ]
  },
  {
   "cell_type": "code",
   "execution_count": 39,
   "id": "8bbc1e4f-1b7d-4fd7-bc57-203f7049ca41",
   "metadata": {},
   "outputs": [],
   "source": [
    "X_train,X_val,y_train,y_val = pipeline.fit_transform(df)"
   ]
  },
  {
   "cell_type": "markdown",
   "id": "0ddbfc8c-93ed-474f-91f0-2aa70e2de959",
   "metadata": {},
   "source": [
    "# Estrutura de Pastas"
   ]
  },
  {
   "cell_type": "markdown",
   "id": "ea74ea53-694c-44b9-a703-4cb33761eca9",
   "metadata": {},
   "source": [
    "### Criar uma pasta apenas com as imgens originais (sem a estrutura de pastas original)"
   ]
  },
  {
   "cell_type": "code",
   "execution_count": 44,
   "id": "d1f17d35-323a-433a-9f4d-ac6795be0222",
   "metadata": {},
   "outputs": [],
   "source": [
    "original_imgs_path = os.path.join(\"..\",\"datasets\",\"PH2Dataset\",\"PH2 Dataset images\")\n",
    "flatten_copy = os.path.join(\"..\",\"datasets\",\"PH2Imagens\")\n",
    "os.makedirs(flatten_copy,exist_ok=True)\n",
    "for img_dir in os.listdir(original_imgs_path):\n",
    "    lista = os.listdir(f\"{os.path.join(original_imgs_path,img_dir)}\")\n",
    "    imagem_original_dir = lista[lista.index(f\"{img_dir+'_Dermoscopic_Image'}\")]\n",
    "    \n",
    "    shutil.copy2(os.path.join(original_imgs_path,img_dir,imagem_original_dir,f\"{img_dir}.bmp\"),flatten_copy)"
   ]
  },
  {
   "cell_type": "markdown",
   "id": "cef4f25b-32e3-486e-a268-18cdcb94bed2",
   "metadata": {},
   "source": [
    "### Função para criar uma estrutura de pastas de acordo com o keras"
   ]
  },
  {
   "cell_type": "code",
   "execution_count": 70,
   "id": "7c2ef08a-ce3d-4239-a588-3cf4908c02c3",
   "metadata": {},
   "outputs": [],
   "source": [
    "def estruturar_pastas(src,destino):\n",
    "    classes = y_train[\"classificacao\"].unique()\n",
    "\n",
    "    os.makedirs(destino,exist_ok=True)\n",
    "    os.makedirs(os.path.join(destino,\"treino\"),exist_ok=True)\n",
    "    os.makedirs(os.path.join(destino,\"validacao\"),exist_ok=True)\n",
    "\n",
    "    for categoria in classes:\n",
    "        os.makedirs(os.path.join(destino,\"treino\",categoria),exist_ok=True)\n",
    "        os.makedirs(os.path.join(destino,\"validacao\",categoria),exist_ok=True)\n",
    "\n",
    "    img_filenames_benignas_treino = X_train[y_train[\"classificacao\"]==\"benigno\"].apply(lambda img_name : img_name+\".bmp\").values\n",
    "    img_filenames_malignas_treino = X_train[y_train[\"classificacao\"]==\"maligno\"].apply(lambda img_name : img_name+\".bmp\").values\n",
    "    \n",
    "    img_filenames_benignas_val = X_val[y_val[\"classificacao\"]==\"benigno\"].apply(lambda img_name : img_name+\".bmp\").values\n",
    "    img_filenames_malignas_val = X_val[y_val[\"classificacao\"]==\"maligno\"].apply(lambda img_name : img_name+\".bmp\").values\n",
    "\n",
    "    filenames_classes = [img_filenames_benignas_treino,img_filenames_malignas_treino,img_filenames_benignas_val,img_filenames_malignas_val]\n",
    "    for filenames_class,DIR in zip(filenames_classes,[\"treino/benigno\",\"treino/maligno\",\"validacao/benigno\",\"validacao/maligno\"]):\n",
    "        for filename in filenames_class:\n",
    "            shutil.copy2(os.path.join(src,filename[0]),os.path.join(destino,DIR))"
   ]
  },
  {
   "cell_type": "code",
   "execution_count": 71,
   "id": "8965fb13-b036-4d63-bf08-3fcaea0716fc",
   "metadata": {
    "scrolled": true
   },
   "outputs": [],
   "source": [
    "estruturar_pastas(src = os.path.join(\"..\",\"datasets\",\"PH2Contornado\"),destino = os.path.join(\"..\",\"datasets\",\"PH2Contornado_estruturado\"))"
   ]
  },
  {
   "cell_type": "code",
   "execution_count": 72,
   "id": "482378f1-ce1b-492b-adf2-e927e5f7498e",
   "metadata": {},
   "outputs": [],
   "source": [
    "estruturar_pastas(src = flatten_copy,destino = os.path.join(\"..\",\"datasets\",\"PH2_estruturado\"))"
   ]
  },
  {
   "cell_type": "code",
   "execution_count": null,
   "id": "75b259df-faad-463a-813e-52a3d317e532",
   "metadata": {},
   "outputs": [],
   "source": []
  }
 ],
 "metadata": {
  "kernelspec": {
   "display_name": "Python 3 (ipykernel)",
   "language": "python",
   "name": "python3"
  },
  "language_info": {
   "codemirror_mode": {
    "name": "ipython",
    "version": 3
   },
   "file_extension": ".py",
   "mimetype": "text/x-python",
   "name": "python",
   "nbconvert_exporter": "python",
   "pygments_lexer": "ipython3",
   "version": "3.8.9"
  }
 },
 "nbformat": 4,
 "nbformat_minor": 5
}
